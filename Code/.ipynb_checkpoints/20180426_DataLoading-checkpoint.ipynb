{
 "cells": [
  {
   "cell_type": "code",
   "execution_count": 1,
   "metadata": {},
   "outputs": [],
   "source": [
    "import os\n",
    "import torch\n",
    "import pandas as pd\n",
    "import numpy as np\n",
    "from skimage import io, transform\n",
    "import matplotlib.pyplot as plt\n",
    "from torch.utils.data import Dataset, DataLoader\n",
    "from torchvision import transforms, utils\n",
    "from random import randint\n",
    "from os import listdir\n",
    "\n",
    "# Ignore warnings\n",
    "import warnings\n",
    "warnings.filterwarnings(\"ignore\")\n",
    "\n",
    "dataset_file = 'Dataset/dataset_index.csv'\n",
    "textures_file = 'Dataset/textures_index.csv'\n",
    "fruits_path = 'Dataset/fruits-360'\n",
    "textures_path = 'Dataset/textures/256'"
   ]
  },
  {
   "cell_type": "code",
   "execution_count": 2,
   "metadata": {},
   "outputs": [],
   "source": [
    "names = []\n",
    "for fruit_class in os.listdir(os.path.join(fruits_path, 'Training')):\n",
    "    names.append(str(fruit_class))"
   ]
  },
  {
   "cell_type": "code",
   "execution_count": 3,
   "metadata": {},
   "outputs": [],
   "source": [
    "if (not os.path.isfile(dataset_file)):  \n",
    "    folders_to_add = ['Training', 'Validation']\n",
    "\n",
    "    df = pd.DataFrame(columns=['Class', 'Path'])\n",
    "\n",
    "    for folder in folders_to_add:\n",
    "        if 'DS' not in folder:\n",
    "            for fruit_class in os.listdir(os.path.join(fruits_path, folder)):\n",
    "                if 'DS' not in fruit_class:\n",
    "                    for name in os.listdir(os.path.join(fruits_path, folder, fruit_class)):\n",
    "                        df = df.append({'Class': str(fruit_class), 'Path': str(os.path.join(fruits_path,folder, fruit_class, name))}, ignore_index=True )\n",
    "    df.to_csv(dataset_file, index=False)\n",
    "    del(df)\n",
    "\n",
    "if (not os.path.isfile(textures_file)):\n",
    "    df = pd.DataFrame(columns=['Path'])\n",
    "\n",
    "    for t in os.listdir(textures_path):\n",
    "        df = df.append({'Path': str(os.path.join(textures_path,t))}, ignore_index=True )\n",
    "    df.to_csv(textures_file, index=False)\n",
    "    \n",
    "    del(df)"
   ]
  },
  {
   "cell_type": "code",
   "execution_count": 4,
   "metadata": {},
   "outputs": [],
   "source": [
    "class FruitsDataset(Dataset):\n",
    "    \"\"\"Fruits dataset.\"\"\"\n",
    "\n",
    "    def __init__(self, csv_file, cl, transform=None):\n",
    "        \"\"\"\n",
    "        Args:\n",
    "            csv_file (string): Path to the csv file with annotations.\n",
    "            transform (callable, optional): Optional transform to be applied\n",
    "                on a sample.\n",
    "        \"\"\"\n",
    "        aux = pd.read_csv(csv_file)\n",
    "        self.fruits_idx = aux[aux['Class'] == cl]\n",
    "        self.transform = transform\n",
    "\n",
    "    def __len__(self):\n",
    "        return len(self.fruits_idx)\n",
    "\n",
    "    def __getitem__(self, idx):\n",
    "        img_name = self.fruits_idx.iloc[idx, 1]\n",
    "        image = io.imread(img_name)\n",
    "\n",
    "        if self.transform:\n",
    "            image = self.transform(image)\n",
    "\n",
    "        return image\n",
    "    \n",
    "class TexturesDataset(Dataset):\n",
    "\n",
    "    def __init__(self, csv_file, transform=None):\n",
    "        \"\"\"\n",
    "        Args:\n",
    "            csv_file (string): Path to the csv file with annotations.\n",
    "            transform (callable, optional): Optional transform to be applied\n",
    "                on a sample.\n",
    "        \"\"\"\n",
    "        self.textures = pd.read_csv(csv_file)\n",
    "        self.transform = transform\n",
    "\n",
    "    def __len__(self):\n",
    "        return len(self.textures)\n",
    "\n",
    "    def __getitem__(self, idx):\n",
    "        img_name = self.textures.iloc[idx, 0]\n",
    "        image = io.imread(img_name)\n",
    "\n",
    "        if self.transform:\n",
    "            image = self.transform(image)\n",
    "\n",
    "        return image"
   ]
  },
  {
   "cell_type": "code",
   "execution_count": 5,
   "metadata": {},
   "outputs": [],
   "source": [
    "class ChangeBackground(object):\n",
    "\n",
    "\n",
    "    def __init__(self, textures):\n",
    "        self.textures = textures\n",
    "\n",
    "    '''\n",
    "    def __call__(self, image):\n",
    "        h, w = image.shape[:2]\n",
    "        maxvals = len(self.textures)\n",
    "        text_idx = randint(0,maxvals-1) \n",
    "        result = self.textures[text_idx] # random selection of the textures\n",
    "        image = np.where(image >= [240, 240, 240], self.textures[text_idx], image)\n",
    "        return image'''\n",
    "    \n",
    "    def __call__(self, image):\n",
    "        #h, w = image.shape[:2]\n",
    "        maxvals = len(self.textures)\n",
    "        text_idx = randint(0,maxvals-1) # random selection of the texture background\n",
    "        result = self.textures[text_idx] # adquisition of the background\n",
    "        h_res, w_res = result.shape[:2]\n",
    "        h_img, w_img = image.shape[:2]\n",
    "        # Generate random position (1/4 outside include) \n",
    "        start_res_x = randint(-h_img/2, h_res-h_img/2)\n",
    "        start_res_y = randint(-w_img/2, w_res-w_img/2)\n",
    "        end_res_x = start_res_x + h_img\n",
    "        end_res_y = start_res_y + w_img\n",
    "        print(h_res, w_res)\n",
    "        print(start_res_x, start_res_y, end_res_x, end_res_y)\n",
    "        # Fix too far left\n",
    "        if start_res_x < 0:\n",
    "            start_img_x = -start_res_x\n",
    "            start_res_x = 0\n",
    "        else:\n",
    "            start_img_x = 0\n",
    "        # Fix too far top\n",
    "        if start_res_y < 0:\n",
    "            start_img_y = -start_res_y\n",
    "            start_res_y = 0\n",
    "        else:\n",
    "            start_img_y = 0\n",
    "        # Fix too far right\n",
    "        if end_res_x > h_res:\n",
    "            end_res_x = h_res\n",
    "            end_img_x = (end_res_x-start_res_x)\n",
    "        else:\n",
    "            end_img_x = h_img\n",
    "        # Fix too far bottom\n",
    "        if end_res_y > w_res:\n",
    "            end_res_y = w_res\n",
    "            end_img_y = (end_res_y-start_res_y)\n",
    "        else:\n",
    "            end_img_y = w_img\n",
    "        print(start_res_x, start_res_y, end_res_x, end_res_y)\n",
    "        print(start_img_x, start_img_y, end_img_x, end_img_y)\n",
    "        # Write our image in the positions selected\n",
    "        print(result.shape)\n",
    "        print(result[start_res_x:end_res_x,start_res_y:end_res_y].shape)\n",
    "        print(image[start_img_x:end_img_x,start_img_y:end_img_y].shape)\n",
    "        result[start_res_x:end_res_x,start_res_y:end_res_y] = \\\n",
    "            np.where(image[start_img_x:end_img_x,start_img_y:end_img_y] >= [240,240,240], \\\n",
    "            result[start_res_x:end_res_x,start_res_y:end_res_y], image[start_img_x:end_img_x,start_img_y:end_img_y])\n",
    "        return result"
   ]
  },
  {
   "cell_type": "code",
   "execution_count": 6,
   "metadata": {},
   "outputs": [],
   "source": [
    "fruits_avocado = FruitsDataset(csv_file=dataset_file, cl='Avocado')\n",
    "fruits_orange = FruitsDataset(csv_file=dataset_file, cl='Orange')\n",
    "textures = TexturesDataset(csv_file=textures_file)\n",
    "test = FruitsDataset(csv_file=dataset_file, cl='Pineapple', transform = transforms.Compose([ChangeBackground(textures)]))"
   ]
  },
  {
   "cell_type": "code",
   "execution_count": 7,
   "metadata": {
    "scrolled": false
   },
   "outputs": [
    {
     "name": "stdout",
     "output_type": "stream",
     "text": [
      "256 256\n",
      "192 133 292 233\n",
      "192 133 256 233\n",
      "0 0 100 100\n",
      "(256, 256, 3)\n",
      "(64, 100, 3)\n",
      "(100, 100, 3)\n"
     ]
    },
    {
     "ename": "ValueError",
     "evalue": "operands could not be broadcast together with shapes (100,100,3) (64,100,3) (100,100,3) ",
     "output_type": "error",
     "traceback": [
      "\u001b[0;31m---------------------------------------------------------------------------\u001b[0m",
      "\u001b[0;31mValueError\u001b[0m                                Traceback (most recent call last)",
      "\u001b[0;32m<ipython-input-7-f1320629bf90>\u001b[0m in \u001b[0;36m<module>\u001b[0;34m()\u001b[0m\n\u001b[1;32m      2\u001b[0m \u001b[0;34m\u001b[0m\u001b[0m\n\u001b[1;32m      3\u001b[0m \u001b[0;32mfor\u001b[0m \u001b[0mi\u001b[0m \u001b[0;32min\u001b[0m \u001b[0mrange\u001b[0m\u001b[0;34m(\u001b[0m\u001b[0mlen\u001b[0m\u001b[0;34m(\u001b[0m\u001b[0mtest\u001b[0m\u001b[0;34m)\u001b[0m\u001b[0;34m)\u001b[0m\u001b[0;34m:\u001b[0m\u001b[0;34m\u001b[0m\u001b[0m\n\u001b[0;32m----> 4\u001b[0;31m     \u001b[0msample\u001b[0m \u001b[0;34m=\u001b[0m \u001b[0mtest\u001b[0m\u001b[0;34m[\u001b[0m\u001b[0mi\u001b[0m\u001b[0;34m]\u001b[0m\u001b[0;34m\u001b[0m\u001b[0m\n\u001b[0m\u001b[1;32m      5\u001b[0m     \u001b[0max\u001b[0m\u001b[0;34m[\u001b[0m\u001b[0mi\u001b[0m\u001b[0;34m]\u001b[0m\u001b[0;34m.\u001b[0m\u001b[0mimshow\u001b[0m\u001b[0;34m(\u001b[0m\u001b[0msample\u001b[0m\u001b[0;34m)\u001b[0m\u001b[0;34m\u001b[0m\u001b[0m\n\u001b[1;32m      6\u001b[0m     \u001b[0;32mif\u001b[0m \u001b[0mi\u001b[0m \u001b[0;34m==\u001b[0m \u001b[0;36m5\u001b[0m\u001b[0;34m:\u001b[0m\u001b[0;34m\u001b[0m\u001b[0m\n",
      "\u001b[0;32m<ipython-input-4-5abcc13f6fdb>\u001b[0m in \u001b[0;36m__getitem__\u001b[0;34m(self, idx)\u001b[0m\n\u001b[1;32m     21\u001b[0m \u001b[0;34m\u001b[0m\u001b[0m\n\u001b[1;32m     22\u001b[0m         \u001b[0;32mif\u001b[0m \u001b[0mself\u001b[0m\u001b[0;34m.\u001b[0m\u001b[0mtransform\u001b[0m\u001b[0;34m:\u001b[0m\u001b[0;34m\u001b[0m\u001b[0m\n\u001b[0;32m---> 23\u001b[0;31m             \u001b[0mimage\u001b[0m \u001b[0;34m=\u001b[0m \u001b[0mself\u001b[0m\u001b[0;34m.\u001b[0m\u001b[0mtransform\u001b[0m\u001b[0;34m(\u001b[0m\u001b[0mimage\u001b[0m\u001b[0;34m)\u001b[0m\u001b[0;34m\u001b[0m\u001b[0m\n\u001b[0m\u001b[1;32m     24\u001b[0m \u001b[0;34m\u001b[0m\u001b[0m\n\u001b[1;32m     25\u001b[0m         \u001b[0;32mreturn\u001b[0m \u001b[0mimage\u001b[0m\u001b[0;34m\u001b[0m\u001b[0m\n",
      "\u001b[0;32m/usr/local/lib/python3.5/dist-packages/torchvision/transforms/transforms.py\u001b[0m in \u001b[0;36m__call__\u001b[0;34m(self, img)\u001b[0m\n\u001b[1;32m     40\u001b[0m     \u001b[0;32mdef\u001b[0m \u001b[0m__call__\u001b[0m\u001b[0;34m(\u001b[0m\u001b[0mself\u001b[0m\u001b[0;34m,\u001b[0m \u001b[0mimg\u001b[0m\u001b[0;34m)\u001b[0m\u001b[0;34m:\u001b[0m\u001b[0;34m\u001b[0m\u001b[0m\n\u001b[1;32m     41\u001b[0m         \u001b[0;32mfor\u001b[0m \u001b[0mt\u001b[0m \u001b[0;32min\u001b[0m \u001b[0mself\u001b[0m\u001b[0;34m.\u001b[0m\u001b[0mtransforms\u001b[0m\u001b[0;34m:\u001b[0m\u001b[0;34m\u001b[0m\u001b[0m\n\u001b[0;32m---> 42\u001b[0;31m             \u001b[0mimg\u001b[0m \u001b[0;34m=\u001b[0m \u001b[0mt\u001b[0m\u001b[0;34m(\u001b[0m\u001b[0mimg\u001b[0m\u001b[0;34m)\u001b[0m\u001b[0;34m\u001b[0m\u001b[0m\n\u001b[0m\u001b[1;32m     43\u001b[0m         \u001b[0;32mreturn\u001b[0m \u001b[0mimg\u001b[0m\u001b[0;34m\u001b[0m\u001b[0m\n\u001b[1;32m     44\u001b[0m \u001b[0;34m\u001b[0m\u001b[0m\n",
      "\u001b[0;32m<ipython-input-5-a44647a09a90>\u001b[0m in \u001b[0;36m__call__\u001b[0;34m(self, image)\u001b[0m\n\u001b[1;32m     58\u001b[0m         \u001b[0mprint\u001b[0m\u001b[0;34m(\u001b[0m\u001b[0mresult\u001b[0m\u001b[0;34m[\u001b[0m\u001b[0mstart_res_x\u001b[0m\u001b[0;34m:\u001b[0m\u001b[0mend_res_x\u001b[0m\u001b[0;34m,\u001b[0m\u001b[0mstart_res_y\u001b[0m\u001b[0;34m:\u001b[0m\u001b[0mend_res_y\u001b[0m\u001b[0;34m]\u001b[0m\u001b[0;34m.\u001b[0m\u001b[0mshape\u001b[0m\u001b[0;34m)\u001b[0m\u001b[0;34m\u001b[0m\u001b[0m\n\u001b[1;32m     59\u001b[0m         \u001b[0mprint\u001b[0m\u001b[0;34m(\u001b[0m\u001b[0mimage\u001b[0m\u001b[0;34m[\u001b[0m\u001b[0mstart_img_x\u001b[0m\u001b[0;34m:\u001b[0m\u001b[0mend_img_x\u001b[0m\u001b[0;34m,\u001b[0m\u001b[0mstart_img_y\u001b[0m\u001b[0;34m:\u001b[0m\u001b[0mend_img_y\u001b[0m\u001b[0;34m]\u001b[0m\u001b[0;34m.\u001b[0m\u001b[0mshape\u001b[0m\u001b[0;34m)\u001b[0m\u001b[0;34m\u001b[0m\u001b[0m\n\u001b[0;32m---> 60\u001b[0;31m         \u001b[0mresult\u001b[0m\u001b[0;34m[\u001b[0m\u001b[0mstart_res_x\u001b[0m\u001b[0;34m:\u001b[0m\u001b[0mend_res_x\u001b[0m\u001b[0;34m,\u001b[0m\u001b[0mstart_res_y\u001b[0m\u001b[0;34m:\u001b[0m\u001b[0mend_res_y\u001b[0m\u001b[0;34m]\u001b[0m \u001b[0;34m=\u001b[0m             \u001b[0mnp\u001b[0m\u001b[0;34m.\u001b[0m\u001b[0mwhere\u001b[0m\u001b[0;34m(\u001b[0m\u001b[0mimage\u001b[0m\u001b[0;34m[\u001b[0m\u001b[0mstart_img_x\u001b[0m\u001b[0;34m:\u001b[0m\u001b[0mend_img_x\u001b[0m\u001b[0;34m,\u001b[0m\u001b[0mstart_img_y\u001b[0m\u001b[0;34m:\u001b[0m\u001b[0mend_img_y\u001b[0m\u001b[0;34m]\u001b[0m \u001b[0;34m>=\u001b[0m \u001b[0;34m[\u001b[0m\u001b[0;36m240\u001b[0m\u001b[0;34m,\u001b[0m\u001b[0;36m240\u001b[0m\u001b[0;34m,\u001b[0m\u001b[0;36m240\u001b[0m\u001b[0;34m]\u001b[0m\u001b[0;34m,\u001b[0m             \u001b[0mresult\u001b[0m\u001b[0;34m[\u001b[0m\u001b[0mstart_res_x\u001b[0m\u001b[0;34m:\u001b[0m\u001b[0mend_res_x\u001b[0m\u001b[0;34m,\u001b[0m\u001b[0mstart_res_y\u001b[0m\u001b[0;34m:\u001b[0m\u001b[0mend_res_y\u001b[0m\u001b[0;34m]\u001b[0m\u001b[0;34m,\u001b[0m \u001b[0mimage\u001b[0m\u001b[0;34m[\u001b[0m\u001b[0mstart_img_x\u001b[0m\u001b[0;34m:\u001b[0m\u001b[0mend_img_x\u001b[0m\u001b[0;34m,\u001b[0m\u001b[0mstart_img_y\u001b[0m\u001b[0;34m:\u001b[0m\u001b[0mend_img_y\u001b[0m\u001b[0;34m]\u001b[0m\u001b[0;34m)\u001b[0m\u001b[0;34m\u001b[0m\u001b[0m\n\u001b[0m\u001b[1;32m     61\u001b[0m         \u001b[0;32mreturn\u001b[0m \u001b[0mresult\u001b[0m\u001b[0;34m\u001b[0m\u001b[0m\n",
      "\u001b[0;31mValueError\u001b[0m: operands could not be broadcast together with shapes (100,100,3) (64,100,3) (100,100,3) "
     ]
    },
    {
     "data": {
      "image/png": "[encoded data removed]",
      "text/plain": [
       "<Figure size 720x1800 with 6 Axes>"
      ]
     },
     "metadata": {},
     "output_type": "display_data"
    }
   ],
   "source": [
    "fig, ax = plt.subplots(nrows=6, ncols=1, figsize=(10,25))\n",
    "\n",
    "for i in range(len(test)):\n",
    "    sample = test[i]\n",
    "    ax[i].imshow(sample)\n",
    "    if i == 5:\n",
    "        plt.show()\n",
    "        break"
   ]
  },
  {
   "cell_type": "code",
   "execution_count": null,
   "metadata": {
    "scrolled": false
   },
   "outputs": [],
   "source": [
    "fig, ax = plt.subplots(nrows=6, ncols=1, figsize=(10,25))\n",
    "\n",
    "for i in range(len(fruits_avocado)):\n",
    "    sample = fruits_avocado[i]\n",
    "    ax[i].imshow(sample)\n",
    "    if i == 5:\n",
    "        plt.show()\n",
    "        break"
   ]
  },
  {
   "cell_type": "code",
   "execution_count": null,
   "metadata": {
    "scrolled": false
   },
   "outputs": [],
   "source": [
    "fig, ax = plt.subplots(nrows=6, ncols=1, figsize=(10,25))\n",
    "\n",
    "for i in range(len(textures)):\n",
    "    sample = textures[i]\n",
    "    print(sample.shape)\n",
    "    ax[i].imshow(sample[:,:,:])\n",
    "    if i == 5:\n",
    "        plt.show()\n",
    "        break"
   ]
  },
  {
   "cell_type": "code",
   "execution_count": null,
   "metadata": {
    "scrolled": false
   },
   "outputs": [],
   "source": [
    "fig, ax = plt.subplots(nrows=6, ncols=1, figsize=(10,25))\n",
    "\n",
    "for i in range(len(test)):\n",
    "    sample = test[i]\n",
    "    ax[i].imshow(sample)\n",
    "    if i == 5:\n",
    "        plt.show()\n",
    "        break"
   ]
  },
  {
   "cell_type": "code",
   "execution_count": null,
   "metadata": {},
   "outputs": [],
   "source": []
  }
 ],
 "metadata": {
  "kernelspec": {
   "display_name": "Python 3",
   "language": "python",
   "name": "python3"
  },
  "language_info": {
   "codemirror_mode": {
    "name": "ipython",
    "version": 3
   },
   "file_extension": ".py",
   "mimetype": "text/x-python",
   "name": "python",
   "nbconvert_exporter": "python",
   "pygments_lexer": "ipython3",
   "version": "3.5.2"
  }
 },
 "nbformat": 4,
 "nbformat_minor": 2
}
